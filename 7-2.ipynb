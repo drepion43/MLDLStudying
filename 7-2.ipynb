{
 "cells": [
  {
   "cell_type": "code",
   "execution_count": 22,
   "id": "72d4879b",
   "metadata": {},
   "outputs": [],
   "source": [
    "from tensorflow import keras\n",
    "(train_input, train_target), (test_input,test_target)= keras.datasets.fashion_mnist.load_data()"
   ]
  },
  {
   "cell_type": "code",
   "execution_count": 23,
   "id": "db18781e",
   "metadata": {},
   "outputs": [],
   "source": [
    "from sklearn.model_selection import train_test_split# 데이터 스캐일링\n",
    "train_scaled=train_input/255.0\n",
    "train_scaled=train_scaled.reshape(-1,28*28)\n",
    "train_scaled,val_scaled, train_target,val_targt=train_test_split(train_scaled,train_target,test_size=0.2, random_state=42)"
   ]
  },
  {
   "cell_type": "code",
   "execution_count": 24,
   "id": "0e4adb8b",
   "metadata": {},
   "outputs": [],
   "source": [
    "dense1=keras.layers.Dense(100,activation='sigmoid',input_shape=(784,))\n",
    "dense2=keras.layers.Dense(10,activation='softmax')"
   ]
  },
  {
   "cell_type": "code",
   "execution_count": 25,
   "id": "5f246cfd",
   "metadata": {},
   "outputs": [],
   "source": [
    "model=keras.Sequential([dense1,dense2])#은닉층 과 출력층"
   ]
  },
  {
   "cell_type": "code",
   "execution_count": 26,
   "id": "2d905c55",
   "metadata": {},
   "outputs": [
    {
     "name": "stdout",
     "output_type": "stream",
     "text": [
      "Model: \"sequential_3\"\n",
      "_________________________________________________________________\n",
      "Layer (type)                 Output Shape              Param #   \n",
      "=================================================================\n",
      "dense_6 (Dense)              (None, 100)               78500     \n",
      "_________________________________________________________________\n",
      "dense_7 (Dense)              (None, 10)                1010      \n",
      "=================================================================\n",
      "Total params: 79,510\n",
      "Trainable params: 79,510\n",
      "Non-trainable params: 0\n",
      "_________________________________________________________________\n"
     ]
    }
   ],
   "source": [
    "model.summary()"
   ]
  },
  {
   "cell_type": "code",
   "execution_count": 27,
   "id": "2f14df7e",
   "metadata": {},
   "outputs": [],
   "source": [
    "model=keras.Sequential([keras.layers.Dense(100,activation='sigmoid',input_shape=(784,),name='hidden'),\n",
    "                        keras.layers.Dense(10,activation='softmax',name='output')],name='패션 MNIST 모델')"
   ]
  },
  {
   "cell_type": "code",
   "execution_count": 28,
   "id": "b1d8506f",
   "metadata": {},
   "outputs": [
    {
     "name": "stdout",
     "output_type": "stream",
     "text": [
      "Model: \"패션 MNIST 모델\"\n",
      "_________________________________________________________________\n",
      "Layer (type)                 Output Shape              Param #   \n",
      "=================================================================\n",
      "hidden (Dense)               (None, 100)               78500     \n",
      "_________________________________________________________________\n",
      "output (Dense)               (None, 10)                1010      \n",
      "=================================================================\n",
      "Total params: 79,510\n",
      "Trainable params: 79,510\n",
      "Non-trainable params: 0\n",
      "_________________________________________________________________\n"
     ]
    }
   ],
   "source": [
    "model.summary()"
   ]
  },
  {
   "cell_type": "code",
   "execution_count": 29,
   "id": "2c30e820",
   "metadata": {},
   "outputs": [],
   "source": [
    "#가장 많이 사용하는 방법\n",
    "model=keras.Sequential()\n",
    "model.add(keras.layers.Dense(100,activation='sigmoid',input_shape=(784,)))\n",
    "model.add(keras.layers.Dense(10,activation='softmax'))"
   ]
  },
  {
   "cell_type": "code",
   "execution_count": 30,
   "id": "cf562d95",
   "metadata": {},
   "outputs": [
    {
     "name": "stdout",
     "output_type": "stream",
     "text": [
      "Model: \"sequential_4\"\n",
      "_________________________________________________________________\n",
      "Layer (type)                 Output Shape              Param #   \n",
      "=================================================================\n",
      "dense_8 (Dense)              (None, 100)               78500     \n",
      "_________________________________________________________________\n",
      "dense_9 (Dense)              (None, 10)                1010      \n",
      "=================================================================\n",
      "Total params: 79,510\n",
      "Trainable params: 79,510\n",
      "Non-trainable params: 0\n",
      "_________________________________________________________________\n"
     ]
    }
   ],
   "source": [
    "model.summary()"
   ]
  },
  {
   "cell_type": "code",
   "execution_count": 31,
   "id": "28e19434",
   "metadata": {
    "scrolled": true
   },
   "outputs": [
    {
     "name": "stdout",
     "output_type": "stream",
     "text": [
      "Train on 48000 samples\n",
      "Epoch 1/5\n",
      "48000/48000 [==============================] - 2s 46us/sample - loss: 0.5614 - acc: 0.8093\n",
      "Epoch 2/5\n",
      "48000/48000 [==============================] - 2s 46us/sample - loss: 0.4082 - acc: 0.8533\n",
      "Epoch 3/5\n",
      "48000/48000 [==============================] - 2s 47us/sample - loss: 0.3731 - acc: 0.8652\n",
      "Epoch 4/5\n",
      "48000/48000 [==============================] - 2s 43us/sample - loss: 0.3503 - acc: 0.8728\n",
      "Epoch 5/5\n",
      "48000/48000 [==============================] - 2s 44us/sample - loss: 0.3342 - acc: 0.8791\n"
     ]
    },
    {
     "data": {
      "text/plain": [
       "<tensorflow.python.keras.callbacks.History at 0x1d39dfb8f48>"
      ]
     },
     "execution_count": 31,
     "metadata": {},
     "output_type": "execute_result"
    }
   ],
   "source": [
    "model.compile(loss='sparse_categorical_crossentropy',metrics=['accuracy'])\n",
    "model.fit(train_scaled,train_target,epochs=5)"
   ]
  },
  {
   "cell_type": "code",
   "execution_count": 32,
   "id": "6bbb1b91",
   "metadata": {},
   "outputs": [
    {
     "data": {
      "text/plain": [
       "[0.34946279688676196, 0.87275]"
      ]
     },
     "execution_count": 32,
     "metadata": {},
     "output_type": "execute_result"
    }
   ],
   "source": [
    "model.evaluate(val_scaled,val_target)"
   ]
  },
  {
   "cell_type": "code",
   "execution_count": 33,
   "id": "5acede65",
   "metadata": {},
   "outputs": [],
   "source": [
    "# ReLu 활성화 함수는 이미지처리에 좋은 성능\n",
    "model=keras.Sequential()\n",
    "model.add(keras.layers.Flatten(input_shape=(28,28)))#Flatten은 배치 차원을 제외한 입쳑 차원을 모두 일렬로 펼침, 입력층 다음에 추가\n",
    "model.add(keras.layers.Dense(100,activation='relu'))\n",
    "model.add(keras.layers.Dense(10,activation='softmax'))"
   ]
  },
  {
   "cell_type": "code",
   "execution_count": 34,
   "id": "8daeb669",
   "metadata": {},
   "outputs": [
    {
     "name": "stdout",
     "output_type": "stream",
     "text": [
      "Model: \"sequential_5\"\n",
      "_________________________________________________________________\n",
      "Layer (type)                 Output Shape              Param #   \n",
      "=================================================================\n",
      "flatten_1 (Flatten)          (None, 784)               0         \n",
      "_________________________________________________________________\n",
      "dense_10 (Dense)             (None, 100)               78500     \n",
      "_________________________________________________________________\n",
      "dense_11 (Dense)             (None, 10)                1010      \n",
      "=================================================================\n",
      "Total params: 79,510\n",
      "Trainable params: 79,510\n",
      "Non-trainable params: 0\n",
      "_________________________________________________________________\n"
     ]
    }
   ],
   "source": [
    "model.summary()"
   ]
  },
  {
   "cell_type": "code",
   "execution_count": 35,
   "id": "c3069c9a",
   "metadata": {},
   "outputs": [],
   "source": [
    "(train_input,train_target),(test_input,test_target)=keras.datasets.fashion_mnist.load_data()\n",
    "train_scaled=train_input/255.0\n",
    "train_scaled,val_scaled,train_target,val_target=train_test_split(train_scaled,train_target,test_size=0.2,random_state=42)"
   ]
  },
  {
   "cell_type": "code",
   "execution_count": 36,
   "id": "431b302f",
   "metadata": {},
   "outputs": [
    {
     "name": "stdout",
     "output_type": "stream",
     "text": [
      "Train on 48000 samples\n",
      "Epoch 1/5\n",
      "48000/48000 [==============================] - 2s 45us/sample - loss: 0.5320 - acc: 0.8123\n",
      "Epoch 2/5\n",
      "48000/48000 [==============================] - 2s 47us/sample - loss: 0.3959 - acc: 0.8589\n",
      "Epoch 3/5\n",
      "48000/48000 [==============================] - 2s 48us/sample - loss: 0.3590 - acc: 0.8716\n",
      "Epoch 4/5\n",
      "48000/48000 [==============================] - 2s 45us/sample - loss: 0.3375 - acc: 0.8796\n",
      "Epoch 5/5\n",
      "48000/48000 [==============================] - 2s 44us/sample - loss: 0.3199 - acc: 0.8873\n"
     ]
    },
    {
     "data": {
      "text/plain": [
       "<tensorflow.python.keras.callbacks.History at 0x1d39e04cbc8>"
      ]
     },
     "execution_count": 36,
     "metadata": {},
     "output_type": "execute_result"
    }
   ],
   "source": [
    "model.compile(loss='sparse_categorical_crossentropy',metrics=['accuracy'])\n",
    "model.fit(train_scaled,train_target,epochs=5)"
   ]
  },
  {
   "cell_type": "code",
   "execution_count": 37,
   "id": "c0829c04",
   "metadata": {},
   "outputs": [
    {
     "data": {
      "text/plain": [
       "[0.36221655329068503, 0.8778333]"
      ]
     },
     "execution_count": 37,
     "metadata": {},
     "output_type": "execute_result"
    }
   ],
   "source": [
    "model.evaluate(val_scaled,val_target)"
   ]
  },
  {
   "cell_type": "code",
   "execution_count": 41,
   "id": "0174b523",
   "metadata": {},
   "outputs": [],
   "source": [
    "#옵티마이저\n",
    "sgd=keras.optimizers.SGD(learning_rate=0.1)\n",
    "model.compile(optimizer=sgd,loss='sparse_categorical_crossentropy',metrics=['accuracy'])# optimizier : sgd 사용"
   ]
  },
  {
   "cell_type": "code",
   "execution_count": 42,
   "id": "72e88f74",
   "metadata": {},
   "outputs": [],
   "source": [
    "sgd=keras.optimizers.SGD(momentum=0.9,nesterov=True) # 네스테로프 가속 경사\n",
    "model.compile(optimizer=sgd,loss='sparse_categorical_crossentropy',metrics=['accuracy'])# optimizier : sgd 사용"
   ]
  },
  {
   "cell_type": "code",
   "execution_count": 43,
   "id": "313db4d0",
   "metadata": {},
   "outputs": [],
   "source": [
    "# 모델이 최적점에 가까이 갈수록 학습률을 낮추는 것을 적응적 학습률 : adagrad,rmsprop\n",
    "adagrad=keras.optimizers.Adagrad()\n",
    "model.compile(optimizer=adagrad,loss='sparse_categorical_crossentropy', metrics=['accuracy'])"
   ]
  },
  {
   "cell_type": "code",
   "execution_count": 44,
   "id": "69f3f4e7",
   "metadata": {},
   "outputs": [],
   "source": [
    "rmsprop=keras.optimizers.RMSprop()\n",
    "model.compile(optimizer=rmsprop,loss='sparse_categorical_crossentropy', metrics=['accuracy'])"
   ]
  },
  {
   "cell_type": "code",
   "execution_count": 45,
   "id": "8ecfbf66",
   "metadata": {},
   "outputs": [],
   "source": [
    "# ADam은 모멘텀 최적화 와 RMSprop의 장점을 합한것이다\n",
    "model=keras.Sequential()\n",
    "model.add(keras.layers.Flatten(input_shape=(28,28)))\n",
    "model.add(keras.layers.Dense(100,activation='relu'))\n",
    "model.add(keras.layers.Dense(10,activation='softmax'))"
   ]
  },
  {
   "cell_type": "code",
   "execution_count": 46,
   "id": "843e54af",
   "metadata": {
    "scrolled": true
   },
   "outputs": [
    {
     "name": "stdout",
     "output_type": "stream",
     "text": [
      "Train on 48000 samples\n",
      "Epoch 1/5\n",
      "48000/48000 [==============================] - 2s 41us/sample - loss: 0.5204 - acc: 0.8176\n",
      "Epoch 2/5\n",
      "48000/48000 [==============================] - 2s 40us/sample - loss: 0.3910 - acc: 0.8605\n",
      "Epoch 3/5\n",
      "48000/48000 [==============================] - 2s 42us/sample - loss: 0.3518 - acc: 0.8734\n",
      "Epoch 4/5\n",
      "48000/48000 [==============================] - 2s 41us/sample - loss: 0.3247 - acc: 0.8819\n",
      "Epoch 5/5\n",
      "48000/48000 [==============================] - 2s 42us/sample - loss: 0.3038 - acc: 0.8894\n"
     ]
    },
    {
     "data": {
      "text/plain": [
       "<tensorflow.python.keras.callbacks.History at 0x1d39ef09d08>"
      ]
     },
     "execution_count": 46,
     "metadata": {},
     "output_type": "execute_result"
    }
   ],
   "source": [
    "model.compile(optimizer='adam',loss='sparse_categorical_crossentropy',metrics=['accuracy'])\n",
    "model.fit(train_scaled,train_target,epochs=5)"
   ]
  },
  {
   "cell_type": "code",
   "execution_count": 47,
   "id": "4bd66b32",
   "metadata": {},
   "outputs": [
    {
     "name": "stderr",
     "output_type": "stream",
     "text": [
      "c:\\users\\drepi\\anaconda3\\envs\\rhs\\lib\\site-packages\\tensorflow\\python\\keras\\engine\\training.py:2426: UserWarning: `Model.state_updates` will be removed in a future version. This property should not be used in TensorFlow 2.0, as `updates` are applied automatically.\n",
      "  warnings.warn('`Model.state_updates` will be removed in a future version. '\n"
     ]
    },
    {
     "data": {
      "text/plain": [
       "[0.3380573364694913, 0.88075]"
      ]
     },
     "execution_count": 47,
     "metadata": {},
     "output_type": "execute_result"
    }
   ],
   "source": [
    "model.evaluate(val_scaled,val_target)"
   ]
  }
 ],
 "metadata": {
  "kernelspec": {
   "display_name": "Python 3 (ipykernel)",
   "language": "python",
   "name": "python3"
  },
  "language_info": {
   "codemirror_mode": {
    "name": "ipython",
    "version": 3
   },
   "file_extension": ".py",
   "mimetype": "text/x-python",
   "name": "python",
   "nbconvert_exporter": "python",
   "pygments_lexer": "ipython3",
   "version": "3.7.10"
  }
 },
 "nbformat": 4,
 "nbformat_minor": 5
}
