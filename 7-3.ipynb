{
 "cells": [
  {
   "cell_type": "code",
   "execution_count": 12,
   "id": "cef7fdcb",
   "metadata": {},
   "outputs": [],
   "source": [
    "from tensorflow import keras\n",
    "from sklearn.model_selection import train_test_split\n",
    "(train_input,train_target), (test_input,test_target)= keras.datasets.fashion_mnist.load_data()"
   ]
  },
  {
   "cell_type": "code",
   "execution_count": 13,
   "id": "279b2736",
   "metadata": {},
   "outputs": [],
   "source": [
    "train_scaled=train_input/255.0\n",
    "train_scaled,val_scaled,train_target,val_target=train_test_split(train_scaled,train_target,test_size=0.2,random_state=42)"
   ]
  },
  {
   "cell_type": "code",
   "execution_count": 18,
   "id": "bc5716f3",
   "metadata": {},
   "outputs": [],
   "source": [
    "def model_fn(a_layer=None):\n",
    "    model=keras.Sequential()\n",
    "    model.add(keras.layers.Flatten(input_shape=(28,28)))\n",
    "    model.add(keras.layers.Dense(100,activation='relu'))\n",
    "    if a_layer:\n",
    "        model.add(a_layer)\n",
    "    model.add(keras.layers.Dense(10,activation='softmax'))\n",
    "    return model"
   ]
  },
  {
   "cell_type": "code",
   "execution_count": 19,
   "id": "6310cda2",
   "metadata": {},
   "outputs": [
    {
     "name": "stdout",
     "output_type": "stream",
     "text": [
      "Model: \"sequential\"\n",
      "_________________________________________________________________\n",
      "Layer (type)                 Output Shape              Param #   \n",
      "=================================================================\n",
      "flatten (Flatten)            (None, 784)               0         \n",
      "_________________________________________________________________\n",
      "dense (Dense)                (None, 100)               78500     \n",
      "_________________________________________________________________\n",
      "dense_1 (Dense)              (None, 10)                1010      \n",
      "=================================================================\n",
      "Total params: 79,510\n",
      "Trainable params: 79,510\n",
      "Non-trainable params: 0\n",
      "_________________________________________________________________\n"
     ]
    }
   ],
   "source": [
    "model=model_fn()\n",
    "model.summary()"
   ]
  },
  {
   "cell_type": "code",
   "execution_count": 23,
   "id": "d265df7a",
   "metadata": {},
   "outputs": [
    {
     "name": "stdout",
     "output_type": "stream",
     "text": [
      "Train on 48000 samples\n",
      "Epoch 1/5\n",
      "48000/48000 [==============================] - 2s 46us/sample - loss: 0.2459 - acc: 0.9157\n",
      "Epoch 2/5\n",
      "48000/48000 [==============================] - 2s 44us/sample - loss: 0.2399 - acc: 0.9175\n",
      "Epoch 3/5\n",
      "48000/48000 [==============================] - 2s 45us/sample - loss: 0.2350 - acc: 0.9181\n",
      "Epoch 4/5\n",
      "48000/48000 [==============================] - 2s 45us/sample - loss: 0.2295 - acc: 0.9210\n",
      "Epoch 5/5\n",
      "48000/48000 [==============================] - 2s 44us/sample - loss: 0.2254 - acc: 0.9240\n"
     ]
    }
   ],
   "source": [
    "model.compile(loss='sparse_categorical_crossentropy',metrics=['accuracy'])\n",
    "history=model.fit(train_scaled,train_target,epochs=5,verbose=1)"
   ]
  },
  {
   "cell_type": "code",
   "execution_count": 31,
   "id": "468c4f57",
   "metadata": {},
   "outputs": [
    {
     "name": "stdout",
     "output_type": "stream",
     "text": [
      "dict_keys(['loss', 'acc'])\n"
     ]
    }
   ],
   "source": [
    "print(history.history.keys()) # 모델훈련한 데이터"
   ]
  },
  {
   "cell_type": "code",
   "execution_count": 25,
   "id": "eac6b9e5",
   "metadata": {},
   "outputs": [
    {
     "name": "stdout",
     "output_type": "stream",
     "text": [
      "{'loss': [0.24587494248275957, 0.2399227547397216, 0.23495897609523186, 0.22950875219578545, 0.22537013650437196], 'acc': [0.91570836, 0.9175417, 0.9180625, 0.9210208, 0.92397916]}\n"
     ]
    }
   ],
   "source": [
    "print(history.history)# epoch당 loss, accuarcy"
   ]
  },
  {
   "cell_type": "code",
   "execution_count": 26,
   "id": "70c49b92",
   "metadata": {},
   "outputs": [
    {
     "data": {
      "image/png": "[encoded data removed]",
      "text/plain": [
       "<Figure size 432x288 with 1 Axes>"
      ]
     },
     "metadata": {
      "needs_background": "light"
     },
     "output_type": "display_data"
    }
   ],
   "source": [
    "import matplotlib.pyplot as plt# 손실함수 그래프로 시각화\n",
    "plt.plot(history.history['loss'])\n",
    "plt.xlabel('epoch')\n",
    "plt.ylabel('loss')\n",
    "plt.show()"
   ]
  },
  {
   "cell_type": "code",
   "execution_count": 34,
   "id": "041c9e96",
   "metadata": {},
   "outputs": [
    {
     "data": {
      "image/png": "[encoded data removed]",
      "text/plain": [
       "<Figure size 432x288 with 1 Axes>"
      ]
     },
     "metadata": {
      "needs_background": "light"
     },
     "output_type": "display_data"
    }
   ],
   "source": [
    "plt.plot(history.history['acc']) # epoch당 정확도 그래프 시각화\n",
    "plt.xlabel('epoch')\n",
    "plt.ylabel('acc')\n",
    "plt.show()"
   ]
  },
  {
   "cell_type": "code",
   "execution_count": 35,
   "id": "625b8b4d",
   "metadata": {
    "scrolled": true
   },
   "outputs": [
    {
     "name": "stdout",
     "output_type": "stream",
     "text": [
      "Train on 48000 samples\n",
      "Epoch 1/20\n",
      "48000/48000 [==============================] - 2s 48us/sample - loss: 0.5332 - acc: 0.8130\n",
      "Epoch 2/20\n",
      "48000/48000 [==============================] - 2s 44us/sample - loss: 0.3906 - acc: 0.8597\n",
      "Epoch 3/20\n",
      "48000/48000 [==============================] - 2s 45us/sample - loss: 0.3548 - acc: 0.8725\n",
      "Epoch 4/20\n",
      "48000/48000 [==============================] - 2s 45us/sample - loss: 0.3328 - acc: 0.8802\n",
      "Epoch 5/20\n",
      "48000/48000 [==============================] - 2s 45us/sample - loss: 0.3200 - acc: 0.8865\n",
      "Epoch 6/20\n",
      "48000/48000 [==============================] - 2s 44us/sample - loss: 0.3082 - acc: 0.8898\n",
      "Epoch 7/20\n",
      "48000/48000 [==============================] - 2s 45us/sample - loss: 0.2971 - acc: 0.8951\n",
      "Epoch 8/20\n",
      "48000/48000 [==============================] - 2s 45us/sample - loss: 0.2898 - acc: 0.8979\n",
      "Epoch 9/20\n",
      "48000/48000 [==============================] - 2s 45us/sample - loss: 0.2823 - acc: 0.9004\n",
      "Epoch 10/20\n",
      "48000/48000 [==============================] - 2s 45us/sample - loss: 0.2768 - acc: 0.9019\n",
      "Epoch 11/20\n",
      "48000/48000 [==============================] - 2s 45us/sample - loss: 0.2695 - acc: 0.9045\n",
      "Epoch 12/20\n",
      "48000/48000 [==============================] - 2s 45us/sample - loss: 0.2652 - acc: 0.9078\n",
      "Epoch 13/20\n",
      "48000/48000 [==============================] - 2s 47us/sample - loss: 0.2581 - acc: 0.9102\n",
      "Epoch 14/20\n",
      "48000/48000 [==============================] - 2s 47us/sample - loss: 0.2527 - acc: 0.9115\n",
      "Epoch 15/20\n",
      "48000/48000 [==============================] - 2s 46us/sample - loss: 0.2515 - acc: 0.9140\n",
      "Epoch 16/20\n",
      "48000/48000 [==============================] - 2s 45us/sample - loss: 0.2468 - acc: 0.9141\n",
      "Epoch 17/20\n",
      "48000/48000 [==============================] - 2s 45us/sample - loss: 0.2405 - acc: 0.9172\n",
      "Epoch 18/20\n",
      "48000/48000 [==============================] - 2s 45us/sample - loss: 0.2345 - acc: 0.9187\n",
      "Epoch 19/20\n",
      "48000/48000 [==============================] - 2s 45us/sample - loss: 0.2332 - acc: 0.9205\n",
      "Epoch 20/20\n",
      "48000/48000 [==============================] - 2s 45us/sample - loss: 0.2266 - acc: 0.9219\n"
     ]
    }
   ],
   "source": [
    "# epoch 늘리기\n",
    "model=model_fn()\n",
    "model.compile(loss='sparse_categorical_crossentropy',metrics=['accuracy'])\n",
    "history=model.fit(train_scaled,train_target,epochs=20,verbose=1)"
   ]
  },
  {
   "cell_type": "code",
   "execution_count": 37,
   "id": "e4686cb7",
   "metadata": {},
   "outputs": [
    {
     "data": {
      "image/png": "[encoded data removed]",
      "text/plain": [
       "<Figure size 432x288 with 1 Axes>"
      ]
     },
     "metadata": {
      "needs_background": "light"
     },
     "output_type": "display_data"
    }
   ],
   "source": [
    "plt.plot(history.history['loss'])\n",
    "plt.xlabel('epoch')\n",
    "plt.ylabel('loss')\n",
    "plt.show()"
   ]
  },
  {
   "cell_type": "code",
   "execution_count": 38,
   "id": "169afc43",
   "metadata": {},
   "outputs": [
    {
     "data": {
      "image/png": "[encoded data removed]",
      "text/plain": [
       "<Figure size 432x288 with 1 Axes>"
      ]
     },
     "metadata": {
      "needs_background": "light"
     },
     "output_type": "display_data"
    }
   ],
   "source": [
    "plt.plot(history.history['acc'])\n",
    "plt.xlabel('epoch')\n",
    "plt.ylabel('loss')\n",
    "plt.show()"
   ]
  },
  {
   "cell_type": "code",
   "execution_count": 39,
   "id": "035574b9",
   "metadata": {
    "scrolled": true
   },
   "outputs": [
    {
     "name": "stdout",
     "output_type": "stream",
     "text": [
      "Train on 48000 samples, validate on 12000 samples\n",
      "Epoch 1/20\n"
     ]
    },
    {
     "name": "stderr",
     "output_type": "stream",
     "text": [
      "c:\\users\\drepi\\anaconda3\\envs\\rhs\\lib\\site-packages\\tensorflow\\python\\keras\\engine\\training.py:2426: UserWarning: `Model.state_updates` will be removed in a future version. This property should not be used in TensorFlow 2.0, as `updates` are applied automatically.\n",
      "  warnings.warn('`Model.state_updates` will be removed in a future version. '\n"
     ]
    },
    {
     "name": "stdout",
     "output_type": "stream",
     "text": [
      "48000/48000 - 2s - loss: 0.5310 - acc: 0.8135 - val_loss: 0.4260 - val_acc: 0.8460\n",
      "Epoch 2/20\n",
      "48000/48000 - 2s - loss: 0.3908 - acc: 0.8588 - val_loss: 0.3818 - val_acc: 0.8636\n",
      "Epoch 3/20\n",
      "48000/48000 - 2s - loss: 0.3532 - acc: 0.8735 - val_loss: 0.4111 - val_acc: 0.8600\n",
      "Epoch 4/20\n",
      "48000/48000 - 2s - loss: 0.3319 - acc: 0.8816 - val_loss: 0.3527 - val_acc: 0.8777\n",
      "Epoch 5/20\n",
      "48000/48000 - 2s - loss: 0.3175 - acc: 0.8857 - val_loss: 0.4130 - val_acc: 0.8587\n",
      "Epoch 6/20\n",
      "48000/48000 - 2s - loss: 0.3061 - acc: 0.8905 - val_loss: 0.3616 - val_acc: 0.8776\n",
      "Epoch 7/20\n",
      "48000/48000 - 2s - loss: 0.2958 - acc: 0.8953 - val_loss: 0.3820 - val_acc: 0.8730\n",
      "Epoch 8/20\n",
      "48000/48000 - 2s - loss: 0.2882 - acc: 0.8972 - val_loss: 0.3908 - val_acc: 0.8759\n",
      "Epoch 9/20\n",
      "48000/48000 - 2s - loss: 0.2814 - acc: 0.9007 - val_loss: 0.3855 - val_acc: 0.8725\n",
      "Epoch 10/20\n",
      "48000/48000 - 2s - loss: 0.2751 - acc: 0.9040 - val_loss: 0.3953 - val_acc: 0.8759\n",
      "Epoch 11/20\n",
      "48000/48000 - 2s - loss: 0.2682 - acc: 0.9059 - val_loss: 0.3966 - val_acc: 0.8796\n",
      "Epoch 12/20\n",
      "48000/48000 - 2s - loss: 0.2644 - acc: 0.9090 - val_loss: 0.3833 - val_acc: 0.8836\n",
      "Epoch 13/20\n",
      "48000/48000 - 2s - loss: 0.2582 - acc: 0.9112 - val_loss: 0.3940 - val_acc: 0.8842\n",
      "Epoch 14/20\n",
      "48000/48000 - 2s - loss: 0.2533 - acc: 0.9122 - val_loss: 0.4056 - val_acc: 0.8855\n",
      "Epoch 15/20\n",
      "48000/48000 - 2s - loss: 0.2503 - acc: 0.9145 - val_loss: 0.4438 - val_acc: 0.8748\n",
      "Epoch 16/20\n",
      "48000/48000 - 2s - loss: 0.2439 - acc: 0.9155 - val_loss: 0.4219 - val_acc: 0.8823\n",
      "Epoch 17/20\n",
      "48000/48000 - 2s - loss: 0.2384 - acc: 0.9182 - val_loss: 0.4215 - val_acc: 0.8807\n",
      "Epoch 18/20\n",
      "48000/48000 - 2s - loss: 0.2356 - acc: 0.9197 - val_loss: 0.4627 - val_acc: 0.8749\n",
      "Epoch 19/20\n",
      "48000/48000 - 2s - loss: 0.2317 - acc: 0.9218 - val_loss: 0.4527 - val_acc: 0.8825\n",
      "Epoch 20/20\n",
      "48000/48000 - 2s - loss: 0.2313 - acc: 0.9223 - val_loss: 0.4827 - val_acc: 0.8795\n"
     ]
    }
   ],
   "source": [
    "#모델이 잘 훈련됬는지 확인할려면 loss함수에 의해 확인 가능\n",
    "model=model_fn() #검증 세트로 평가\n",
    "model.compile(loss='sparse_categorical_crossentropy',metrics=['accuracy'])\n",
    "history=model.fit(train_scaled,train_target, epochs=20,verbose=2,validation_data=(val_scaled,val_target))"
   ]
  },
  {
   "cell_type": "code",
   "execution_count": 40,
   "id": "dcb3d656",
   "metadata": {},
   "outputs": [
    {
     "name": "stdout",
     "output_type": "stream",
     "text": [
      "dict_keys(['loss', 'acc', 'val_loss', 'val_acc'])\n"
     ]
    }
   ],
   "source": [
    "print(history.history.keys())"
   ]
  },
  {
   "cell_type": "code",
   "execution_count": 42,
   "id": "7c2494b0",
   "metadata": {},
   "outputs": [
    {
     "data": {
      "image/png": "[encoded data removed]",
      "text/plain": [
       "<Figure size 432x288 with 1 Axes>"
      ]
     },
     "metadata": {
      "needs_background": "light"
     },
     "output_type": "display_data"
    }
   ],
   "source": [
    "plt.plot(history.history['loss'])\n",
    "plt.plot(history.history['val_loss'])\n",
    "plt.xlabel('epoch')\n",
    "plt.ylabel('loss')\n",
    "plt.legend(['train','val'])\n",
    "plt.show()"
   ]
  },
  {
   "cell_type": "code",
   "execution_count": 49,
   "id": "4799ef74",
   "metadata": {
    "scrolled": true
   },
   "outputs": [
    {
     "name": "stdout",
     "output_type": "stream",
     "text": [
      "Train on 48000 samples, validate on 12000 samples\n",
      "Epoch 1/20\n",
      "48000/48000 - 2s - loss: 0.5235 - acc: 0.8186 - val_loss: 0.4158 - val_acc: 0.8528\n",
      "Epoch 2/20\n",
      "48000/48000 - 2s - loss: 0.3932 - acc: 0.8586 - val_loss: 0.3759 - val_acc: 0.8669\n",
      "Epoch 3/20\n",
      "48000/48000 - 2s - loss: 0.3508 - acc: 0.8727 - val_loss: 0.3427 - val_acc: 0.8763\n",
      "Epoch 4/20\n",
      "48000/48000 - 2s - loss: 0.3245 - acc: 0.8821 - val_loss: 0.3465 - val_acc: 0.8748\n",
      "Epoch 5/20\n",
      "48000/48000 - 2s - loss: 0.3055 - acc: 0.8890 - val_loss: 0.3348 - val_acc: 0.8818\n",
      "Epoch 6/20\n",
      "48000/48000 - 2s - loss: 0.2923 - acc: 0.8921 - val_loss: 0.3306 - val_acc: 0.8806\n",
      "Epoch 7/20\n",
      "48000/48000 - 2s - loss: 0.2778 - acc: 0.8970 - val_loss: 0.3292 - val_acc: 0.8827\n",
      "Epoch 8/20\n",
      "48000/48000 - 2s - loss: 0.2668 - acc: 0.9007 - val_loss: 0.3302 - val_acc: 0.8830\n",
      "Epoch 9/20\n",
      "48000/48000 - 2s - loss: 0.2563 - acc: 0.9047 - val_loss: 0.3259 - val_acc: 0.8837\n",
      "Epoch 10/20\n",
      "48000/48000 - 2s - loss: 0.2483 - acc: 0.9073 - val_loss: 0.3249 - val_acc: 0.8850\n",
      "Epoch 11/20\n",
      "48000/48000 - 2s - loss: 0.2395 - acc: 0.9098 - val_loss: 0.3242 - val_acc: 0.8848\n",
      "Epoch 12/20\n",
      "48000/48000 - 2s - loss: 0.2316 - acc: 0.9138 - val_loss: 0.3338 - val_acc: 0.8831\n",
      "Epoch 13/20\n",
      "48000/48000 - 2s - loss: 0.2237 - acc: 0.9157 - val_loss: 0.3592 - val_acc: 0.8795\n",
      "Epoch 14/20\n",
      "48000/48000 - 2s - loss: 0.2162 - acc: 0.9190 - val_loss: 0.3299 - val_acc: 0.8848\n",
      "Epoch 15/20\n",
      "48000/48000 - 2s - loss: 0.2116 - acc: 0.9208 - val_loss: 0.3383 - val_acc: 0.8842\n",
      "Epoch 16/20\n",
      "48000/48000 - 2s - loss: 0.2066 - acc: 0.9227 - val_loss: 0.3248 - val_acc: 0.8901\n",
      "Epoch 17/20\n",
      "48000/48000 - 2s - loss: 0.2014 - acc: 0.9244 - val_loss: 0.3273 - val_acc: 0.8887\n",
      "Epoch 18/20\n",
      "48000/48000 - 2s - loss: 0.1927 - acc: 0.9278 - val_loss: 0.3330 - val_acc: 0.8906\n",
      "Epoch 19/20\n",
      "48000/48000 - 2s - loss: 0.1904 - acc: 0.9287 - val_loss: 0.3420 - val_acc: 0.8857\n",
      "Epoch 20/20\n",
      "48000/48000 - 2s - loss: 0.1864 - acc: 0.9304 - val_loss: 0.3562 - val_acc: 0.8827\n"
     ]
    }
   ],
   "source": [
    "#과대적합을 막는 규제방법은 옵티마이저 사용\n",
    "model=model_fn() #검증 세트로 평가\n",
    "model.compile(optimizer='adam',loss='sparse_categorical_crossentropy',metrics=['accuracy'])\n",
    "history=model.fit(train_scaled,train_target, epochs=20,verbose=2,validation_data=(val_scaled,val_target))\n",
    "# 더 나음을 위해서는 learning rate를 조정해볼 필요가 있다"
   ]
  },
  {
   "cell_type": "code",
   "execution_count": 50,
   "id": "2c569fcd",
   "metadata": {},
   "outputs": [
    {
     "data": {
      "image/png": "[encoded data removed]",
      "text/plain": [
       "<Figure size 432x288 with 1 Axes>"
      ]
     },
     "metadata": {
      "needs_background": "light"
     },
     "output_type": "display_data"
    }
   ],
   "source": [
    "plt.plot(history.history['loss'])\n",
    "plt.plot(history.history['val_loss'])\n",
    "plt.xlabel('epoch')\n",
    "plt.ylabel('loss')\n",
    "plt.legend(['train','val'])\n",
    "plt.show()"
   ]
  },
  {
   "cell_type": "code",
   "execution_count": 51,
   "id": "17a3c286",
   "metadata": {},
   "outputs": [
    {
     "data": {
      "text/plain": [
       "[0.35624053290486335, 0.88266665]"
      ]
     },
     "execution_count": 51,
     "metadata": {},
     "output_type": "execute_result"
    }
   ],
   "source": [
    "model.evaluate(val_scaled,val_target)"
   ]
  },
  {
   "cell_type": "code",
   "execution_count": 45,
   "id": "6523afc5",
   "metadata": {
    "scrolled": true
   },
   "outputs": [
    {
     "name": "stdout",
     "output_type": "stream",
     "text": [
      "Train on 48000 samples, validate on 12000 samples\n",
      "Epoch 1/20\n",
      "48000/48000 - 2s - loss: 1.5853 - acc: 0.5226 - val_loss: 1.1427 - val_acc: 0.6791\n",
      "Epoch 2/20\n",
      "48000/48000 - 2s - loss: 0.9736 - acc: 0.7108 - val_loss: 0.8746 - val_acc: 0.7282\n",
      "Epoch 3/20\n",
      "48000/48000 - 2s - loss: 0.7981 - acc: 0.7539 - val_loss: 0.7592 - val_acc: 0.7574\n",
      "Epoch 4/20\n",
      "48000/48000 - 2s - loss: 0.7119 - acc: 0.7759 - val_loss: 0.6961 - val_acc: 0.7740\n",
      "Epoch 5/20\n",
      "48000/48000 - 2s - loss: 0.6601 - acc: 0.7900 - val_loss: 0.6545 - val_acc: 0.7864\n",
      "Epoch 6/20\n",
      "48000/48000 - 2s - loss: 0.6239 - acc: 0.8006 - val_loss: 0.6230 - val_acc: 0.7958\n",
      "Epoch 7/20\n",
      "48000/48000 - 2s - loss: 0.5966 - acc: 0.8074 - val_loss: 0.5988 - val_acc: 0.8053\n",
      "Epoch 8/20\n",
      "48000/48000 - 2s - loss: 0.5750 - acc: 0.8139 - val_loss: 0.5798 - val_acc: 0.8091\n",
      "Epoch 9/20\n",
      "48000/48000 - 2s - loss: 0.5579 - acc: 0.8185 - val_loss: 0.5648 - val_acc: 0.8141\n",
      "Epoch 10/20\n",
      "48000/48000 - 2s - loss: 0.5437 - acc: 0.8224 - val_loss: 0.5515 - val_acc: 0.8185\n",
      "Epoch 11/20\n",
      "48000/48000 - 2s - loss: 0.5316 - acc: 0.8247 - val_loss: 0.5396 - val_acc: 0.8213\n",
      "Epoch 12/20\n",
      "48000/48000 - 2s - loss: 0.5210 - acc: 0.8286 - val_loss: 0.5305 - val_acc: 0.8248\n",
      "Epoch 13/20\n",
      "48000/48000 - 2s - loss: 0.5120 - acc: 0.8307 - val_loss: 0.5216 - val_acc: 0.8263\n",
      "Epoch 14/20\n",
      "48000/48000 - 2s - loss: 0.5038 - acc: 0.8327 - val_loss: 0.5140 - val_acc: 0.8293\n",
      "Epoch 15/20\n",
      "48000/48000 - 2s - loss: 0.4967 - acc: 0.8345 - val_loss: 0.5070 - val_acc: 0.8305\n",
      "Epoch 16/20\n",
      "48000/48000 - 2s - loss: 0.4901 - acc: 0.8367 - val_loss: 0.5010 - val_acc: 0.8317\n",
      "Epoch 17/20\n",
      "48000/48000 - 2s - loss: 0.4843 - acc: 0.8385 - val_loss: 0.4954 - val_acc: 0.8328\n",
      "Epoch 18/20\n",
      "48000/48000 - 2s - loss: 0.4789 - acc: 0.8396 - val_loss: 0.4907 - val_acc: 0.8335\n",
      "Epoch 19/20\n",
      "48000/48000 - 2s - loss: 0.4738 - acc: 0.8413 - val_loss: 0.4853 - val_acc: 0.8361\n",
      "Epoch 20/20\n",
      "48000/48000 - 2s - loss: 0.4691 - acc: 0.8425 - val_loss: 0.4807 - val_acc: 0.8361\n"
     ]
    }
   ],
   "source": [
    "#과대적합을 막는 규제방법은 옵티마이저 사용\n",
    "model=model_fn() #검증 세트로 평가\n",
    "adam=keras.optimizers.Adam(learning_rate=0.00001)\n",
    "model.compile(optimizer=adam,loss='sparse_categorical_crossentropy',metrics=['accuracy'])\n",
    "history=model.fit(train_scaled,train_target, epochs=20,verbose=2,validation_data=(val_scaled,val_target))\n",
    "# 더 나음을 위해서는 learning rate를 조정해볼 필요가 있다"
   ]
  },
  {
   "cell_type": "code",
   "execution_count": 47,
   "id": "c268a40d",
   "metadata": {},
   "outputs": [
    {
     "data": {
      "image/png": "[encoded data removed]",
      "text/plain": [
       "<Figure size 432x288 with 1 Axes>"
      ]
     },
     "metadata": {
      "needs_background": "light"
     },
     "output_type": "display_data"
    }
   ],
   "source": [
    "plt.plot(history.history['loss'])\n",
    "plt.plot(history.history['val_loss'])\n",
    "plt.xlabel('epoch')\n",
    "plt.ylabel('loss')\n",
    "plt.legend(['train','val'])\n",
    "plt.show()"
   ]
  },
  {
   "cell_type": "code",
   "execution_count": null,
   "id": "2e29c8de",
   "metadata": {},
   "outputs": [],
   "source": []
  },
  {
   "cell_type": "code",
   "execution_count": 48,
   "id": "081f457f",
   "metadata": {
    "scrolled": true
   },
   "outputs": [
    {
     "data": {
      "text/plain": [
       "[0.48066325958569844, 0.83608335]"
      ]
     },
     "execution_count": 48,
     "metadata": {},
     "output_type": "execute_result"
    }
   ],
   "source": [
    "model.evaluate(val_scaled,val_target)"
   ]
  },
  {
   "cell_type": "code",
   "execution_count": 52,
   "id": "ad135be0",
   "metadata": {},
   "outputs": [
    {
     "name": "stdout",
     "output_type": "stream",
     "text": [
      "Model: \"sequential_6\"\n",
      "_________________________________________________________________\n",
      "Layer (type)                 Output Shape              Param #   \n",
      "=================================================================\n",
      "flatten_6 (Flatten)          (None, 784)               0         \n",
      "_________________________________________________________________\n",
      "dense_12 (Dense)             (None, 100)               78500     \n",
      "_________________________________________________________________\n",
      "dropout (Dropout)            (None, 100)               0         \n",
      "_________________________________________________________________\n",
      "dense_13 (Dense)             (None, 10)                1010      \n",
      "=================================================================\n",
      "Total params: 79,510\n",
      "Trainable params: 79,510\n",
      "Non-trainable params: 0\n",
      "_________________________________________________________________\n"
     ]
    }
   ],
   "source": [
    "# 드롭아웃\n",
    "model=model_fn(keras.layers.Dropout(0.3))\n",
    "model.summary()"
   ]
  },
  {
   "cell_type": "code",
   "execution_count": 56,
   "id": "5a125ead",
   "metadata": {},
   "outputs": [
    {
     "name": "stdout",
     "output_type": "stream",
     "text": [
      "Train on 48000 samples, validate on 12000 samples\n",
      "Epoch 1/20\n",
      "48000/48000 [==============================] - 3s 72us/sample - loss: 0.2305 - acc: 0.9126 - val_loss: 0.3490 - val_acc: 0.8913\n",
      "Epoch 2/20\n",
      "48000/48000 [==============================] - 4s 76us/sample - loss: 0.2250 - acc: 0.9133 - val_loss: 0.3546 - val_acc: 0.8881\n",
      "Epoch 3/20\n",
      "48000/48000 [==============================] - 4s 79us/sample - loss: 0.2251 - acc: 0.9141 - val_loss: 0.3392 - val_acc: 0.8900\n",
      "Epoch 4/20\n",
      "48000/48000 [==============================] - 3s 60us/sample - loss: 0.2229 - acc: 0.9129 - val_loss: 0.3599 - val_acc: 0.8883 1s - \n",
      "Epoch 5/20\n",
      "48000/48000 [==============================] - 3s 71us/sample - loss: 0.2238 - acc: 0.9143 - val_loss: 0.3433 - val_acc: 0.8920\n",
      "Epoch 6/20\n",
      "48000/48000 [==============================] - 3s 61us/sample - loss: 0.2207 - acc: 0.9149 - val_loss: 0.3543 - val_acc: 0.8898- ETA: 0s - loss: 0.2203 - a\n",
      "Epoch 7/20\n",
      "48000/48000 [==============================] - 3s 63us/sample - loss: 0.2203 - acc: 0.9165 - val_loss: 0.3627 - val_acc: 0.8908\n",
      "Epoch 8/20\n",
      "48000/48000 [==============================] - 3s 61us/sample - loss: 0.2154 - acc: 0.9165 - val_loss: 0.3436 - val_acc: 0.89080.91 - ETA: 0s - loss: 0.2154 - acc:\n",
      "Epoch 9/20\n",
      "48000/48000 [==============================] - 3s 65us/sample - loss: 0.2141 - acc: 0.9179 - val_loss: 0.3658 - val_acc: 0.8887.2109  - ETA: 0s - loss: 0.2146  - ETA: 0s - loss: 0.2140 - acc: 0.918 - ETA: 0s - loss: 0.2141 - acc: 0.917\n",
      "Epoch 10/20\n",
      "48000/48000 [==============================] - 3s 61us/sample - loss: 0.2157 - acc: 0.9172 - val_loss: 0.3547 - val_acc: 0.8920\n",
      "Epoch 11/20\n",
      "48000/48000 [==============================] - 3s 62us/sample - loss: 0.2145 - acc: 0.9168 - val_loss: 0.3591 - val_acc: 0.88881s - loss: 0.2126 - acc: - ETA: 1s - loss: 0.2 - ETA: 0s - loss: 0.2138 - acc: 0\n",
      "Epoch 12/20\n",
      "48000/48000 [==============================] - 3s 62us/sample - loss: 0.2159 - acc: 0.9162 - val_loss: 0.3555 - val_acc: 0.89050.2154 - a\n",
      "Epoch 13/20\n",
      "48000/48000 [==============================] - 3s 69us/sample - loss: 0.2104 - acc: 0.9187 - val_loss: 0.3873 - val_acc: 0.88672s - loss: 0.2027 - acc:  - ETA: 1s - loss: 0.2049 - acc: 0. - ETA: 1s - loss: 0.20 - ETA: 0s - los\n",
      "Epoch 14/20\n",
      "48000/48000 [==============================] - 3s 61us/sample - loss: 0.2101 - acc: 0.9194 - val_loss: 0.3564 - val_acc: 0.8928: 0 - ETA: 0s - loss: 0.2101 - acc: 0.918 - ETA: 0s - loss: 0.2107 - acc:\n",
      "Epoch 15/20\n",
      "48000/48000 [==============================] - 3s 62us/sample - loss: 0.2087 - acc: 0.9194 - val_loss: 0.3739 - val_acc: 0.8908acc: \n",
      "Epoch 16/20\n",
      "48000/48000 [==============================] - 3s 71us/sample - loss: 0.2059 - acc: 0.9197 - val_loss: 0.3621 - val_acc: 0.8923\n",
      "Epoch 17/20\n",
      "48000/48000 [==============================] - 3s 62us/sample - loss: 0.2065 - acc: 0.9204 - val_loss: 0.3727 - val_acc: 0.8922 - loss: 0.2064 - acc: 0.92\n",
      "Epoch 18/20\n",
      "48000/48000 [==============================] - 3s 73us/sample - loss: 0.2089 - acc: 0.9187 - val_loss: 0.3748 - val_acc: 0.8892 loss: 0.\n",
      "Epoch 19/20\n",
      "48000/48000 [==============================] - 3s 65us/sample - loss: 0.2025 - acc: 0.9221 - val_loss: 0.3838 - val_acc: 0.89230.2047 - a - ETA: 1s - los - ETA: 0s - loss: 0.2029 - acc: 0.922 - ETA: 0s - loss: 0.2030 - acc: 0.92\n",
      "Epoch 20/20\n",
      "48000/48000 [==============================] - 3s 62us/sample - loss: 0.2039 - acc: 0.9209 - val_loss: 0.3614 - val_acc: 0.8896\n"
     ]
    }
   ],
   "source": [
    "#검증\n",
    "model.compile(optimizer='adam',loss='sparse_categorical_crossentropy',metrics=['accuracy'])\n",
    "history=model.fit(train_scaled,train_target,epochs=20,verbose=1,validation_data=(val_scaled,val_target))"
   ]
  },
  {
   "cell_type": "code",
   "execution_count": 57,
   "id": "c2a494d6",
   "metadata": {},
   "outputs": [
    {
     "data": {
      "image/png": "[encoded data removed]",
      "text/plain": [
       "<Figure size 432x288 with 1 Axes>"
      ]
     },
     "metadata": {
      "needs_background": "light"
     },
     "output_type": "display_data"
    }
   ],
   "source": [
    "plt.plot(history.history['loss'])\n",
    "plt.plot(history.history['val_loss'])\n",
    "plt.xlabel('epoch')\n",
    "plt.ylabel('loss')\n",
    "plt.legend(['train','val'])\n",
    "plt.show()"
   ]
  },
  {
   "cell_type": "code",
   "execution_count": 59,
   "id": "d472845a",
   "metadata": {
    "scrolled": true
   },
   "outputs": [
    {
     "name": "stdout",
     "output_type": "stream",
     "text": [
      "Train on 48000 samples, validate on 12000 samples\n",
      "Epoch 1/20\n",
      "48000/48000 [==============================] - 3s 67us/sample - loss: 0.5872 - acc: 0.7933 - val_loss: 0.4300 - val_acc: 0.8429\n",
      "Epoch 2/20\n",
      "48000/48000 [==============================] - 3s 61us/sample - loss: 0.4358 - acc: 0.8423 - val_loss: 0.3955 - val_acc: 0.8547\n",
      "Epoch 3/20\n",
      "48000/48000 [==============================] - 3s 61us/sample - loss: 0.4048 - acc: 0.8528 - val_loss: 0.3737 - val_acc: 0.8605\n",
      "Epoch 4/20\n",
      "48000/48000 [==============================] - 3s 60us/sample - loss: 0.3838 - acc: 0.8596 - val_loss: 0.3529 - val_acc: 0.8688\n",
      "Epoch 5/20\n",
      "48000/48000 [==============================] - 3s 60us/sample - loss: 0.3666 - acc: 0.8665 - val_loss: 0.3493 - val_acc: 0.8733\n",
      "Epoch 6/20\n",
      "48000/48000 [==============================] - 3s 59us/sample - loss: 0.3555 - acc: 0.8693 - val_loss: 0.3413 - val_acc: 0.8750\n",
      "Epoch 7/20\n",
      "48000/48000 [==============================] - 3s 59us/sample - loss: 0.3438 - acc: 0.8749 - val_loss: 0.3363 - val_acc: 0.8746\n",
      "Epoch 8/20\n",
      "48000/48000 [==============================] - 3s 60us/sample - loss: 0.3327 - acc: 0.8773 - val_loss: 0.3335 - val_acc: 0.8780\n",
      "Epoch 9/20\n",
      "48000/48000 [==============================] - 3s 59us/sample - loss: 0.3272 - acc: 0.8798 - val_loss: 0.3368 - val_acc: 0.8783\n",
      "Epoch 10/20\n",
      "48000/48000 [==============================] - 3s 59us/sample - loss: 0.3164 - acc: 0.8809 - val_loss: 0.3247 - val_acc: 0.8789\n",
      "Epoch 11/20\n",
      "48000/48000 [==============================] - 3s 60us/sample - loss: 0.3162 - acc: 0.8830 - val_loss: 0.3185 - val_acc: 0.8845\n",
      "Epoch 12/20\n",
      "48000/48000 [==============================] - 3s 59us/sample - loss: 0.3082 - acc: 0.8850 - val_loss: 0.3279 - val_acc: 0.8836\n",
      "Epoch 13/20\n",
      "48000/48000 [==============================] - 3s 59us/sample - loss: 0.3033 - acc: 0.8868 - val_loss: 0.3188 - val_acc: 0.8842\n",
      "Epoch 14/20\n",
      "48000/48000 [==============================] - 3s 60us/sample - loss: 0.2977 - acc: 0.8886 - val_loss: 0.3252 - val_acc: 0.8821\n",
      "Epoch 15/20\n",
      "48000/48000 [==============================] - 3s 60us/sample - loss: 0.2937 - acc: 0.8911 - val_loss: 0.3212 - val_acc: 0.8851\n",
      "Epoch 16/20\n",
      "48000/48000 [==============================] - 3s 61us/sample - loss: 0.2861 - acc: 0.8928 - val_loss: 0.3237 - val_acc: 0.8851 0s - loss: 0.2859 - acc: 0.89\n",
      "Epoch 17/20\n",
      "48000/48000 [==============================] - 3s 62us/sample - loss: 0.2858 - acc: 0.8927 - val_loss: 0.3178 - val_acc: 0.8857\n",
      "Epoch 18/20\n",
      "48000/48000 [==============================] - 3s 71us/sample - loss: 0.2798 - acc: 0.8951 - val_loss: 0.3298 - val_acc: 0.8834\n",
      "Epoch 19/20\n",
      "48000/48000 [==============================] - 3s 61us/sample - loss: 0.2779 - acc: 0.8969 - val_loss: 0.3176 - val_acc: 0.8872- loss: 0.2754 - ETA: 0s - loss: 0.2759 - acc: 0\n",
      "Epoch 20/20\n",
      "48000/48000 [==============================] - 3s 60us/sample - loss: 0.2730 - acc: 0.8981 - val_loss: 0.3420 - val_acc: 0.8835\n"
     ]
    }
   ],
   "source": [
    "model=model_fn(keras.layers.Dropout(0.3))\n",
    "model.compile(optimizer='adam',loss='sparse_categorical_crossentropy',metrics=['accuracy'])\n",
    "history=model.fit(train_scaled,train_target,epochs=20,verbose=1,validation_data=(val_scaled,val_target))"
   ]
  },
  {
   "cell_type": "code",
   "execution_count": 60,
   "id": "003fd6a1",
   "metadata": {},
   "outputs": [],
   "source": [
    "model.save_weights('model-weights.h5')"
   ]
  },
  {
   "cell_type": "code",
   "execution_count": 61,
   "id": "cc904640",
   "metadata": {},
   "outputs": [],
   "source": [
    "model.save('model-whole.h5')"
   ]
  },
  {
   "cell_type": "code",
   "execution_count": 67,
   "id": "1b4c6acd",
   "metadata": {},
   "outputs": [],
   "source": [
    "model=model_fn(keras.layers.Dropout(0.3))\n",
    "model.load_weights('model-weights.h5')"
   ]
  },
  {
   "cell_type": "code",
   "execution_count": 68,
   "id": "4ecee7fd",
   "metadata": {
    "scrolled": false
   },
   "outputs": [
    {
     "name": "stdout",
     "output_type": "stream",
     "text": [
      "Model: \"sequential_8\"\n",
      "_________________________________________________________________\n",
      "Layer (type)                 Output Shape              Param #   \n",
      "=================================================================\n",
      "flatten_8 (Flatten)          (None, 784)               0         \n",
      "_________________________________________________________________\n",
      "dense_16 (Dense)             (None, 100)               78500     \n",
      "_________________________________________________________________\n",
      "dropout_2 (Dropout)          (None, 100)               0         \n",
      "_________________________________________________________________\n",
      "dense_17 (Dense)             (None, 10)                1010      \n",
      "=================================================================\n",
      "Total params: 79,510\n",
      "Trainable params: 79,510\n",
      "Non-trainable params: 0\n",
      "_________________________________________________________________\n"
     ]
    }
   ],
   "source": [
    "model.summary()"
   ]
  },
  {
   "cell_type": "code",
   "execution_count": 69,
   "id": "0f387307",
   "metadata": {},
   "outputs": [
    {
     "name": "stdout",
     "output_type": "stream",
     "text": [
      "0.8835\n"
     ]
    }
   ],
   "source": [
    "import numpy as np\n",
    "val_labels=np.argmax(model.predict(val_scaled), axis=-1)\n",
    "print(np.mean(val_labels==val_target))"
   ]
  },
  {
   "cell_type": "code",
   "execution_count": 70,
   "id": "d1719aee",
   "metadata": {
    "scrolled": true
   },
   "outputs": [
    {
     "name": "stdout",
     "output_type": "stream",
     "text": [
      "WARNING:tensorflow:From c:\\users\\drepi\\anaconda3\\envs\\rhs\\lib\\site-packages\\tensorflow\\python\\ops\\init_ops.py:97: calling GlorotUniform.__init__ (from tensorflow.python.ops.init_ops) with dtype is deprecated and will be removed in a future version.\n",
      "Instructions for updating:\n",
      "Call initializer instance with the dtype argument instead of passing it to the constructor\n",
      "WARNING:tensorflow:From c:\\users\\drepi\\anaconda3\\envs\\rhs\\lib\\site-packages\\tensorflow\\python\\ops\\init_ops.py:97: calling Zeros.__init__ (from tensorflow.python.ops.init_ops) with dtype is deprecated and will be removed in a future version.\n",
      "Instructions for updating:\n",
      "Call initializer instance with the dtype argument instead of passing it to the constructor\n"
     ]
    },
    {
     "data": {
      "text/plain": [
       "[0.34195083808898924, 0.8835]"
      ]
     },
     "execution_count": 70,
     "metadata": {},
     "output_type": "execute_result"
    }
   ],
   "source": [
    "model=keras.models.load_model('model-whole.h5')\n",
    "model.evaluate(val_scaled,val_target)"
   ]
  },
  {
   "cell_type": "code",
   "execution_count": 71,
   "id": "78f05983",
   "metadata": {},
   "outputs": [
    {
     "name": "stdout",
     "output_type": "stream",
     "text": [
      "Train on 48000 samples, validate on 12000 samples\n",
      "Epoch 1/20\n",
      "48000/48000 [==============================] - 3s 68us/sample - loss: 0.5844 - acc: 0.7916 - val_loss: 0.4112 - val_acc: 0.8530\n",
      "Epoch 2/20\n",
      "48000/48000 [==============================] - 3s 59us/sample - loss: 0.4361 - acc: 0.8424 - val_loss: 0.4103 - val_acc: 0.8522\n",
      "Epoch 3/20\n",
      "48000/48000 [==============================] - 3s 58us/sample - loss: 0.3993 - acc: 0.8550 - val_loss: 0.3593 - val_acc: 0.8682\n",
      "Epoch 4/20\n",
      "48000/48000 [==============================] - 3s 58us/sample - loss: 0.3792 - acc: 0.8607 - val_loss: 0.3591 - val_acc: 0.8702\n",
      "Epoch 5/20\n",
      "48000/48000 [==============================] - 3s 58us/sample - loss: 0.3622 - acc: 0.8665 - val_loss: 0.3649 - val_acc: 0.8676\n",
      "Epoch 6/20\n",
      "48000/48000 [==============================] - 3s 58us/sample - loss: 0.3517 - acc: 0.8707 - val_loss: 0.3338 - val_acc: 0.8773\n",
      "Epoch 7/20\n",
      "48000/48000 [==============================] - 3s 59us/sample - loss: 0.3390 - acc: 0.8740 - val_loss: 0.3440 - val_acc: 0.8735\n",
      "Epoch 8/20\n",
      "48000/48000 [==============================] - 3s 58us/sample - loss: 0.3319 - acc: 0.8772 - val_loss: 0.3299 - val_acc: 0.8776\n",
      "Epoch 9/20\n",
      "48000/48000 [==============================] - 3s 58us/sample - loss: 0.3259 - acc: 0.8794 - val_loss: 0.3339 - val_acc: 0.8816\n",
      "Epoch 10/20\n",
      "48000/48000 [==============================] - 3s 58us/sample - loss: 0.3153 - acc: 0.8827 - val_loss: 0.3251 - val_acc: 0.8819\n",
      "Epoch 11/20\n",
      "48000/48000 [==============================] - 3s 57us/sample - loss: 0.3103 - acc: 0.8852 - val_loss: 0.3261 - val_acc: 0.8841\n",
      "Epoch 12/20\n",
      "48000/48000 [==============================] - 3s 58us/sample - loss: 0.3044 - acc: 0.8863 - val_loss: 0.3231 - val_acc: 0.8798\n",
      "Epoch 13/20\n",
      "48000/48000 [==============================] - 3s 58us/sample - loss: 0.3014 - acc: 0.8871 - val_loss: 0.3182 - val_acc: 0.8841\n",
      "Epoch 14/20\n",
      "48000/48000 [==============================] - 3s 59us/sample - loss: 0.2964 - acc: 0.8883 - val_loss: 0.3120 - val_acc: 0.8872\n",
      "Epoch 15/20\n",
      "48000/48000 [==============================] - 3s 62us/sample - loss: 0.2927 - acc: 0.8904 - val_loss: 0.3202 - val_acc: 0.8841\n",
      "Epoch 16/20\n",
      "48000/48000 [==============================] - 3s 59us/sample - loss: 0.2860 - acc: 0.8911 - val_loss: 0.3134 - val_acc: 0.8892\n",
      "Epoch 17/20\n",
      "48000/48000 [==============================] - 3s 60us/sample - loss: 0.2817 - acc: 0.8930 - val_loss: 0.3190 - val_acc: 0.8831\n",
      "Epoch 18/20\n",
      "48000/48000 [==============================] - 3s 60us/sample - loss: 0.2798 - acc: 0.8930 - val_loss: 0.3254 - val_acc: 0.8838\n",
      "Epoch 19/20\n",
      "48000/48000 [==============================] - 3s 60us/sample - loss: 0.2767 - acc: 0.8953 - val_loss: 0.3256 - val_acc: 0.8842\n",
      "Epoch 20/20\n",
      "48000/48000 [==============================] - 3s 61us/sample - loss: 0.2731 - acc: 0.8963 - val_loss: 0.3202 - val_acc: 0.8882\n"
     ]
    },
    {
     "data": {
      "text/plain": [
       "<tensorflow.python.keras.callbacks.History at 0x17022ec3f08>"
      ]
     },
     "execution_count": 71,
     "metadata": {},
     "output_type": "execute_result"
    }
   ],
   "source": [
    "model=model_fn(keras.layers.Dropout(0.3))\n",
    "model.compile(optimizer='adam', loss='sparse_categorical_crossentropy',metrics=['accuracy'])\n",
    "checkpoint_cb=keras.callbacks.ModelCheckpoint('best-model.h5')\n",
    "model.fit(train_scaled,train_target,epochs=20,verbose=1,validation_data=(val_scaled,val_target),callbacks=[checkpoint_cb])"
   ]
  },
  {
   "cell_type": "code",
   "execution_count": 72,
   "id": "86a96248",
   "metadata": {},
   "outputs": [
    {
     "data": {
      "text/plain": [
       "[0.32020138734579084, 0.88825]"
      ]
     },
     "execution_count": 72,
     "metadata": {},
     "output_type": "execute_result"
    }
   ],
   "source": [
    "model=keras.models.load_model('best-model.h5')\n",
    "model.evaluate(val_scaled,val_target)"
   ]
  },
  {
   "cell_type": "code",
   "execution_count": 74,
   "id": "8b916bb6",
   "metadata": {},
   "outputs": [
    {
     "name": "stdout",
     "output_type": "stream",
     "text": [
      "Train on 48000 samples, validate on 12000 samples\n",
      "Epoch 1/20\n",
      "48000/48000 [==============================] - 3s 70us/sample - loss: 0.5851 - acc: 0.7948 - val_loss: 0.4400 - val_acc: 0.8395\n",
      "Epoch 2/20\n",
      "48000/48000 [==============================] - 3s 63us/sample - loss: 0.4376 - acc: 0.8413 - val_loss: 0.3825 - val_acc: 0.8588\n",
      "Epoch 3/20\n",
      "48000/48000 [==============================] - 3s 61us/sample - loss: 0.4009 - acc: 0.8552 - val_loss: 0.3765 - val_acc: 0.8610\n",
      "Epoch 4/20\n",
      "48000/48000 [==============================] - 3s 63us/sample - loss: 0.3818 - acc: 0.8592 - val_loss: 0.3486 - val_acc: 0.8717\n",
      "Epoch 5/20\n",
      "48000/48000 [==============================] - 3s 61us/sample - loss: 0.3661 - acc: 0.8648 - val_loss: 0.3509 - val_acc: 0.8719\n",
      "Epoch 6/20\n",
      "48000/48000 [==============================] - 3s 61us/sample - loss: 0.3540 - acc: 0.8696 - val_loss: 0.3413 - val_acc: 0.8735\n",
      "Epoch 7/20\n",
      "48000/48000 [==============================] - 3s 60us/sample - loss: 0.3440 - acc: 0.8727 - val_loss: 0.3408 - val_acc: 0.8765\n",
      "Epoch 8/20\n",
      "48000/48000 [==============================] - 3s 62us/sample - loss: 0.3360 - acc: 0.8759 - val_loss: 0.3405 - val_acc: 0.8739\n",
      "Epoch 9/20\n",
      "48000/48000 [==============================] - 3s 60us/sample - loss: 0.3276 - acc: 0.8770 - val_loss: 0.3266 - val_acc: 0.8794\n",
      "Epoch 10/20\n",
      "48000/48000 [==============================] - 3s 62us/sample - loss: 0.3196 - acc: 0.8814 - val_loss: 0.3291 - val_acc: 0.8812\n",
      "Epoch 11/20\n",
      "48000/48000 [==============================] - 3s 64us/sample - loss: 0.3150 - acc: 0.8821 - val_loss: 0.3257 - val_acc: 0.8840\n",
      "Epoch 12/20\n",
      "48000/48000 [==============================] - 3s 63us/sample - loss: 0.3089 - acc: 0.8841 - val_loss: 0.3195 - val_acc: 0.8812\n",
      "Epoch 13/20\n",
      "48000/48000 [==============================] - 3s 62us/sample - loss: 0.3034 - acc: 0.8857 - val_loss: 0.3226 - val_acc: 0.8816\n",
      "Epoch 14/20\n",
      "48000/48000 [==============================] - 3s 65us/sample - loss: 0.3002 - acc: 0.8873 - val_loss: 0.3288 - val_acc: 0.8786\n"
     ]
    }
   ],
   "source": [
    "model=model_fn(keras.layers.Dropout(0.3))\n",
    "model.compile(optimizer='adam',loss='sparse_categorical_crossentropy', metrics=['accuracy'])\n",
    "checkpoint_cb=keras.callbacks.ModelCheckpoint('best-model.h5')\n",
    "early_stopping_cb=keras.callbacks.EarlyStopping(patience=2,restore_best_weights=True)\n",
    "history=model.fit(train_scaled,train_target,epochs=20,verbose=1,validation_data=(val_scaled,val_target),\n",
    "                  callbacks=[checkpoint_cb,early_stopping_cb])"
   ]
  },
  {
   "cell_type": "code",
   "execution_count": 75,
   "id": "f44dfe08",
   "metadata": {},
   "outputs": [
    {
     "name": "stdout",
     "output_type": "stream",
     "text": [
      "13\n"
     ]
    }
   ],
   "source": [
    "print(early_stopping_cb.stopped_epoch)# 몇번째 에포크에서 훈련이 중지되었는지 확인"
   ]
  },
  {
   "cell_type": "code",
   "execution_count": 76,
   "id": "456fa062",
   "metadata": {},
   "outputs": [
    {
     "data": {
      "image/png": "[encoded data removed]",
      "text/plain": [
       "<Figure size 432x288 with 1 Axes>"
      ]
     },
     "metadata": {
      "needs_background": "light"
     },
     "output_type": "display_data"
    }
   ],
   "source": [
    "plt.plot(history.history['loss'])\n",
    "plt.plot(history.history['val_loss'])\n",
    "plt.xlabel('epoch')\n",
    "plt.ylabel('loss')\n",
    "plt.legend(['train','val'])\n",
    "plt.show()"
   ]
  },
  {
   "cell_type": "code",
   "execution_count": 78,
   "id": "d3c9d15d",
   "metadata": {},
   "outputs": [
    {
     "data": {
      "text/plain": [
       "[0.31951450230677925, 0.88116664]"
      ]
     },
     "execution_count": 78,
     "metadata": {},
     "output_type": "execute_result"
    }
   ],
   "source": [
    "model.evaluate(val_scaled,val_target)"
   ]
  },
  {
   "cell_type": "code",
   "execution_count": null,
   "id": "b9b45a41",
   "metadata": {},
   "outputs": [],
   "source": []
  }
 ],
 "metadata": {
  "kernelspec": {
   "display_name": "Python 3 (ipykernel)",
   "language": "python",
   "name": "python3"
  },
  "language_info": {
   "codemirror_mode": {
    "name": "ipython",
    "version": 3
   },
   "file_extension": ".py",
   "mimetype": "text/x-python",
   "name": "python",
   "nbconvert_exporter": "python",
   "pygments_lexer": "ipython3",
   "version": "3.7.10"
  }
 },
 "nbformat": 4,
 "nbformat_minor": 5
}
